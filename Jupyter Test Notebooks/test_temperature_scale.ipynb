{
 "cells": [
  {
   "cell_type": "code",
   "execution_count": 74,
   "id": "09f2b359-97b5-438d-8657-c838d9133606",
   "metadata": {},
   "outputs": [],
   "source": [
    "import cv2\n",
    "import numpy as np\n",
    "import math\n",
    "import sys\n",
    "from colormap import rgb2hex\n",
    "from matplotlib import pyplot as plt\n",
    "import time"
   ]
  },
  {
   "cell_type": "code",
   "execution_count": 2,
   "id": "0e3d48b8",
   "metadata": {},
   "outputs": [],
   "source": [
    "def rgb2int(rgb):\n",
    "    hex = rgb2hex(rgb[0], rgb[1], rgb[2])\n",
    "    return int(hex[1:len(hex)], 16)"
   ]
  },
  {
   "cell_type": "code",
   "execution_count": 3,
   "id": "2579b29e-fca8-41fd-b306-9e61007af326",
   "metadata": {},
   "outputs": [],
   "source": [
    "tempScaleImg = cv2.imread(\"TempScaleImg.jpg\")\n",
    "tempArr = np.array(tempScaleImg)\n",
    "x = tempArr.shape[0] #Rows\n",
    "y = tempArr.shape[1] #Cols"
   ]
  },
  {
   "cell_type": "code",
   "execution_count": 4,
   "id": "e479ee71",
   "metadata": {},
   "outputs": [],
   "source": [
    "#Find the average rgb value in each row\n",
    "tempAvgArr = tempArr[0:x, 0]\n",
    "rgbScaleInt = np.empty([x])\n",
    "for i in range(0, x):\n",
    "     rgbScaleInt[i] = rgb2int(tempAvgArr[i])"
   ]
  },
  {
   "cell_type": "code",
   "execution_count": 5,
   "id": "7490b366",
   "metadata": {},
   "outputs": [],
   "source": [
    "tempRange = np.linspace(350, -50, x)"
   ]
  },
  {
   "cell_type": "code",
   "execution_count": 6,
   "id": "9f3a30fc",
   "metadata": {},
   "outputs": [],
   "source": [
    "temp_dict = dict()\n",
    "\n",
    "for e in range(0, x):\n",
    "    temp_dict[rgbScaleInt[e]] = tempRange[e]"
   ]
  },
  {
   "cell_type": "code",
   "execution_count": 7,
   "id": "377475bc",
   "metadata": {},
   "outputs": [],
   "source": [
    "def find_nearest(array, value):\n",
    "    array = np.asarray(array)\n",
    "    idx = (np.abs(array - value)).argmin()\n",
    "    return (array[idx], idx)"
   ]
  },
  {
   "cell_type": "code",
   "execution_count": 8,
   "id": "ecbf8b5c",
   "metadata": {},
   "outputs": [],
   "source": [
    "def get_temp(val):\n",
    "    temp, idx = find_nearest(rgbScaleInt, val)\n",
    "    return tempRange[idx]"
   ]
  },
  {
   "cell_type": "code",
   "execution_count": 9,
   "id": "102ad1b9",
   "metadata": {},
   "outputs": [],
   "source": [
    "def rgb_to_temp(image):\n",
    "    img = cv2.imread(image)\n",
    "    \n",
    "    rgbArr = np.array(img)\n",
    "\n",
    "    x = rgbArr.shape[0] #Rows\n",
    "    y = rgbArr.shape[1] #Cols\n",
    "    \n",
    "    tempMapped = np.empty([x, y])\n",
    "    \n",
    "    for row in range(0, x):\n",
    "        for col in range(0, y):\n",
    "            tempMapped[row,col] = get_temp(rgb2int(rgbArr[row,col]))\n",
    "            \n",
    "    return tempMapped     "
   ]
  },
  {
   "cell_type": "code",
   "execution_count": 75,
   "id": "96c08f39",
   "metadata": {},
   "outputs": [
    {
     "name": "stdout",
     "output_type": "stream",
     "text": [
      "7.2831130027771\n"
     ]
    }
   ],
   "source": [
    "start = time.time()\n",
    "temp = rgb_to_temp(\"sampleThermal.jpg\");\n",
    "end = time.time()\n",
    "print(end-start)"
   ]
  },
  {
   "cell_type": "code",
   "execution_count": 11,
   "id": "73327f6a",
   "metadata": {},
   "outputs": [
    {
     "name": "stdout",
     "output_type": "stream",
     "text": [
      "[[ 25.96638655  25.96638655  25.96638655 ...  27.31092437  44.11764706\n",
      "  324.45378151]\n",
      " [ 25.96638655  25.96638655  25.96638655 ...  27.31092437  44.11764706\n",
      "  324.45378151]\n",
      " [ 25.96638655  25.96638655  25.96638655 ...  27.31092437  44.11764706\n",
      "  324.45378151]\n",
      " ...\n",
      " [ 30.67226891  31.34453782  31.34453782 ...  32.01680672 321.09243697\n",
      "  324.45378151]\n",
      " [ 30.67226891  31.34453782  31.34453782 ...  32.01680672 321.09243697\n",
      "  324.45378151]\n",
      " [ 30.67226891  31.34453782  32.01680672 ...  32.01680672 321.09243697\n",
      "  324.45378151]]\n"
     ]
    }
   ],
   "source": [
    "print(temp)"
   ]
  },
  {
   "cell_type": "code",
   "execution_count": 12,
   "id": "5fdd3784",
   "metadata": {},
   "outputs": [
    {
     "name": "stdout",
     "output_type": "stream",
     "text": [
      "Python version\n",
      "3.9.7 (default, Sep  3 2021, 12:37:55) \n",
      "[Clang 12.0.5 (clang-1205.0.22.9)]\n",
      "Version info.\n",
      "sys.version_info(major=3, minor=9, micro=7, releaselevel='final', serial=0)\n"
     ]
    }
   ],
   "source": [
    "print(\"Python version\")\n",
    "print (sys.version)\n",
    "print(\"Version info.\")\n",
    "print (sys.version_info)"
   ]
  },
  {
   "cell_type": "code",
   "execution_count": 59,
   "id": "2166b9e0",
   "metadata": {},
   "outputs": [],
   "source": [
    " img = cv2.imread(\"sampleThermal.jpg\")"
   ]
  },
  {
   "cell_type": "code",
   "execution_count": 67,
   "id": "0d7d1bdc",
   "metadata": {},
   "outputs": [
    {
     "data": {
      "image/png": "[encoded data removed]",
      "text/plain": [
       "<Figure size 432x288 with 1 Axes>"
      ]
     },
     "metadata": {
      "needs_background": "light"
     },
     "output_type": "display_data"
    }
   ],
   "source": [
    "#Apply binary thresholding\n",
    "img_gray = cv2.cvtColor(img, cv2.COLOR_BGR2GRAY)\n",
    "ret, thresh = cv2.threshold(img_gray, 55, 255, cv2.THRESH_BINARY)\n",
    "#Visualize the binary image\n",
    "plt.imshow(cv2.cvtColor(thresh, cv2.COLOR_BGR2RGB))\n",
    "plt.title('Binary Image')\n",
    "plt.show()"
   ]
  },
  {
   "cell_type": "code",
   "execution_count": 83,
   "id": "b8d87b62",
   "metadata": {},
   "outputs": [
    {
     "name": "stdout",
     "output_type": "stream",
     "text": [
      "[array([[[708,  23]]], dtype=int32), array([[[307,   0]],\n",
      "\n",
      "       [[307,   1]],\n",
      "\n",
      "       [[307,   2]],\n",
      "\n",
      "       ...,\n",
      "\n",
      "       [[310,   0]],\n",
      "\n",
      "       [[309,   0]],\n",
      "\n",
      "       [[308,   0]]], dtype=int32), array([[[770, 560]],\n",
      "\n",
      "       [[771, 559]],\n",
      "\n",
      "       [[772, 560]],\n",
      "\n",
      "       [[771, 561]]], dtype=int32), array([[[688, 541]],\n",
      "\n",
      "       [[689, 540]],\n",
      "\n",
      "       [[690, 541]],\n",
      "\n",
      "       [[689, 542]]], dtype=int32), array([[[ 19, 541]],\n",
      "\n",
      "       [[ 20, 540]],\n",
      "\n",
      "       [[ 21, 541]],\n",
      "\n",
      "       [[ 20, 542]]], dtype=int32), array([[[635, 519]],\n",
      "\n",
      "       [[636, 518]],\n",
      "\n",
      "       [[637, 519]],\n",
      "\n",
      "       [[636, 520]]], dtype=int32), array([[[633, 518]],\n",
      "\n",
      "       [[634, 517]],\n",
      "\n",
      "       [[635, 518]],\n",
      "\n",
      "       [[634, 519]]], dtype=int32), array([[[ 46, 506]],\n",
      "\n",
      "       [[ 47, 505]],\n",
      "\n",
      "       [[ 48, 506]],\n",
      "\n",
      "       [[ 47, 507]]], dtype=int32), array([[[592, 495]],\n",
      "\n",
      "       [[593, 494]],\n",
      "\n",
      "       [[594, 495]],\n",
      "\n",
      "       [[593, 496]]], dtype=int32), array([[[ 64, 480]],\n",
      "\n",
      "       [[ 65, 479]],\n",
      "\n",
      "       [[ 66, 480]],\n",
      "\n",
      "       [[ 65, 481]]], dtype=int32), array([[[ 98, 453]],\n",
      "\n",
      "       [[ 99, 452]],\n",
      "\n",
      "       [[100, 453]],\n",
      "\n",
      "       [[ 99, 454]]], dtype=int32), array([[[579, 439]],\n",
      "\n",
      "       [[580, 438]],\n",
      "\n",
      "       [[581, 439]],\n",
      "\n",
      "       [[580, 440]]], dtype=int32), array([[[313, 437]],\n",
      "\n",
      "       [[314, 436]],\n",
      "\n",
      "       [[315, 437]],\n",
      "\n",
      "       [[314, 438]]], dtype=int32), array([[[313, 434]],\n",
      "\n",
      "       [[314, 433]],\n",
      "\n",
      "       [[315, 434]],\n",
      "\n",
      "       [[314, 435]]], dtype=int32), array([[[588, 427]],\n",
      "\n",
      "       [[589, 426]],\n",
      "\n",
      "       [[590, 427]],\n",
      "\n",
      "       [[589, 428]]], dtype=int32), array([[[294, 369]],\n",
      "\n",
      "       [[295, 368]],\n",
      "\n",
      "       [[296, 369]],\n",
      "\n",
      "       [[296, 370]],\n",
      "\n",
      "       [[295, 371]],\n",
      "\n",
      "       [[294, 370]]], dtype=int32), array([[[646, 353]],\n",
      "\n",
      "       [[647, 352]],\n",
      "\n",
      "       [[648, 353]],\n",
      "\n",
      "       [[647, 354]]], dtype=int32), array([[[285, 239]],\n",
      "\n",
      "       [[286, 238]],\n",
      "\n",
      "       [[287, 239]],\n",
      "\n",
      "       [[286, 240]]], dtype=int32), array([[[285, 235]],\n",
      "\n",
      "       [[286, 234]],\n",
      "\n",
      "       [[287, 235]],\n",
      "\n",
      "       [[287, 236]],\n",
      "\n",
      "       [[286, 237]],\n",
      "\n",
      "       [[285, 236]]], dtype=int32), array([[[285, 226]],\n",
      "\n",
      "       [[286, 225]],\n",
      "\n",
      "       [[287, 226]],\n",
      "\n",
      "       [[287, 227]],\n",
      "\n",
      "       [[286, 228]],\n",
      "\n",
      "       [[285, 227]]], dtype=int32), array([[[285, 220]],\n",
      "\n",
      "       [[286, 219]],\n",
      "\n",
      "       [[287, 220]],\n",
      "\n",
      "       [[286, 221]]], dtype=int32), array([[[294, 180]],\n",
      "\n",
      "       [[295, 179]],\n",
      "\n",
      "       [[296, 180]],\n",
      "\n",
      "       [[296, 181]],\n",
      "\n",
      "       [[296, 182]],\n",
      "\n",
      "       [[296, 183]],\n",
      "\n",
      "       [[295, 184]],\n",
      "\n",
      "       [[294, 183]],\n",
      "\n",
      "       [[294, 182]],\n",
      "\n",
      "       [[294, 181]]], dtype=int32), array([[[294, 167]],\n",
      "\n",
      "       [[295, 166]],\n",
      "\n",
      "       [[296, 167]],\n",
      "\n",
      "       [[296, 168]],\n",
      "\n",
      "       [[295, 169]],\n",
      "\n",
      "       [[294, 168]]], dtype=int32), array([[[294, 163]],\n",
      "\n",
      "       [[295, 162]],\n",
      "\n",
      "       [[296, 163]],\n",
      "\n",
      "       [[295, 164]]], dtype=int32), array([[[294, 152]],\n",
      "\n",
      "       [[295, 151]],\n",
      "\n",
      "       [[296, 152]],\n",
      "\n",
      "       [[296, 153]],\n",
      "\n",
      "       [[296, 154]],\n",
      "\n",
      "       [[296, 155]],\n",
      "\n",
      "       [[295, 156]],\n",
      "\n",
      "       [[294, 155]],\n",
      "\n",
      "       [[294, 154]],\n",
      "\n",
      "       [[294, 153]]], dtype=int32), array([[[294, 146]],\n",
      "\n",
      "       [[295, 145]],\n",
      "\n",
      "       [[296, 146]],\n",
      "\n",
      "       [[296, 147]],\n",
      "\n",
      "       [[295, 148]],\n",
      "\n",
      "       [[294, 147]]], dtype=int32), array([[[294, 113]],\n",
      "\n",
      "       [[295, 112]],\n",
      "\n",
      "       [[296, 113]],\n",
      "\n",
      "       [[296, 114]],\n",
      "\n",
      "       [[295, 115]],\n",
      "\n",
      "       [[294, 114]]], dtype=int32), array([[[294, 104]],\n",
      "\n",
      "       [[295, 103]],\n",
      "\n",
      "       [[296, 104]],\n",
      "\n",
      "       [[296, 105]],\n",
      "\n",
      "       [[296, 106]],\n",
      "\n",
      "       [[296, 107]],\n",
      "\n",
      "       [[296, 108]],\n",
      "\n",
      "       [[296, 109]],\n",
      "\n",
      "       [[295, 110]],\n",
      "\n",
      "       [[294, 109]],\n",
      "\n",
      "       [[294, 108]],\n",
      "\n",
      "       [[294, 107]],\n",
      "\n",
      "       [[294, 106]],\n",
      "\n",
      "       [[294, 105]]], dtype=int32)]\n"
     ]
    },
    {
     "data": {
      "image/png": "[encoded data removed]",
      "text/plain": [
       "<Figure size 432x288 with 1 Axes>"
      ]
     },
     "metadata": {
      "needs_background": "light"
     },
     "output_type": "display_data"
    }
   ],
   "source": [
    "contours, hierarchy = cv2.findContours(image=thresh, mode=cv2.RETR_TREE, method =cv2.CHAIN_APPROX_NONE)\n",
    "\n",
    "image_cpy = img.copy()\n",
    "cv2.drawContours(image=image_cpy, contours=contours, contourIdx=-1, color=(0,255,0),\n",
    "                thickness=2, lineType=cv2.LINE_AA)\n",
    "contours, _ = cv2.findContours(thresh, cv2.RETR_TREE, cv2.CHAIN_APPROX_NONE)\n",
    "\n",
    "print(contours)\n",
    "plt.imshow(cv2.cvtColor(image_cpy, cv2.COLOR_BGR2RGB))\n",
    "plt.title('Contour')\n",
    "plt.show()"
   ]
  },
  {
   "cell_type": "code",
   "execution_count": null,
   "id": "5b8c2e88",
   "metadata": {},
   "outputs": [],
   "source": []
  }
 ],
 "metadata": {
  "kernelspec": {
   "display_name": "Python 3",
   "language": "python",
   "name": "python3"
  },
  "language_info": {
   "codemirror_mode": {
    "name": "ipython",
    "version": 3
   },
   "file_extension": ".py",
   "mimetype": "text/x-python",
   "name": "python",
   "nbconvert_exporter": "python",
   "pygments_lexer": "ipython3",
   "version": "3.9.7"
  }
 },
 "nbformat": 4,
 "nbformat_minor": 5
}
