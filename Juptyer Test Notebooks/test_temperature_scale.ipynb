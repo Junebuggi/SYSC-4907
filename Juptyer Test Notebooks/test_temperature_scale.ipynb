{
 "cells": [
  {
   "cell_type": "code",
   "execution_count": 12,
   "id": "09f2b359-97b5-438d-8657-c838d9133606",
   "metadata": {},
   "outputs": [],
   "source": [
    "import cv2\n",
    "import numpy as np\n",
    "import math\n",
    "import sys\n",
    "from colormap import rgb2hex"
   ]
  },
  {
   "cell_type": "code",
   "execution_count": 2,
   "id": "6239f16c",
   "metadata": {},
   "outputs": [],
   "source": [
    "def rgb2int(rgb):\n",
    "    hex = rgb2hex(rgb[0], rgb[1], rgb[2])\n",
    "    return int(hex[1:len(hex)], 16)"
   ]
  },
  {
   "cell_type": "code",
   "execution_count": 15,
   "id": "2579b29e-fca8-41fd-b306-9e61007af326",
   "metadata": {},
   "outputs": [
    {
     "name": "stdout",
     "output_type": "stream",
     "text": [
      "596 50\n"
     ]
    }
   ],
   "source": [
    "tempScaleImg = cv2.imread(\"TempScaleImg.jpg\")\n",
    "tempArr = np.array(tempScaleImg)\n",
    "x = tempArr.shape[0] #Rows\n",
    "y = tempArr.shape[1] #Cols\n",
    "print (x, y)\n"
   ]
  },
  {
   "cell_type": "code",
   "execution_count": 16,
   "id": "f414320f",
   "metadata": {},
   "outputs": [],
   "source": [
    "#Find the average rgb value in each row\n",
    "tempAvgArr = tempArr[0:x, 0]\n",
    "rgbScaleInt = np.empty([x])\n",
    "for i in range(0, x):\n",
    "     rgbScaleInt[i] = rgb2int(tempAvgArr[i])"
   ]
  },
  {
   "cell_type": "code",
   "execution_count": 17,
   "id": "5954e27d",
   "metadata": {},
   "outputs": [],
   "source": [
    "tempRange = np.linspace(350, -50, x)"
   ]
  },
  {
   "cell_type": "code",
   "execution_count": 18,
   "id": "1205c153",
   "metadata": {},
   "outputs": [],
   "source": [
    "temp_dict = dict()\n",
    "\n",
    "for e in range(0, x):\n",
    "    temp_dict[rgbScaleInt[e]] = tempRange[e]"
   ]
  },
  {
   "cell_type": "code",
   "execution_count": 19,
   "id": "9495575b",
   "metadata": {},
   "outputs": [],
   "source": [
    "def find_nearest(array, value):\n",
    "    array = np.asarray(array)\n",
    "    idx = (np.abs(array - value)).argmin()\n",
    "    return (array[idx], idx)"
   ]
  },
  {
   "cell_type": "code",
   "execution_count": 20,
   "id": "505da586",
   "metadata": {},
   "outputs": [],
   "source": [
    "def get_temp(val):\n",
    "    temp, idx = find_nearest(rgbScaleInt, val)\n",
    "    return tempRange[idx]"
   ]
  },
  {
   "cell_type": "code",
   "execution_count": 21,
   "id": "b568dede",
   "metadata": {},
   "outputs": [],
   "source": [
    "def rgb_to_temp(image):\n",
    "    img = cv2.imread(image)\n",
    "    \n",
    "    rgbArr = np.array(img)\n",
    "\n",
    "    x = rgbArr.shape[0] #Rows\n",
    "    y = rgbArr.shape[1] #Cols\n",
    "    \n",
    "    tempMapped = np.empty([x, y])\n",
    "    \n",
    "    for row in range(0, x):\n",
    "        for col in range(0, y):\n",
    "            tempMapped[row,col] = get_temp(rgb2int(rgbArr[row,col]))\n",
    "            \n",
    "    return tempMapped     "
   ]
  },
  {
   "cell_type": "code",
   "execution_count": 22,
   "id": "064b0048",
   "metadata": {},
   "outputs": [],
   "source": [
    "temp = rgb_to_temp(\"sampleThermal.jpg\");"
   ]
  },
  {
   "cell_type": "code",
   "execution_count": 23,
   "id": "5decfd37",
   "metadata": {},
   "outputs": [
    {
     "name": "stdout",
     "output_type": "stream",
     "text": [
      "[[ 25.96638655  25.96638655  25.96638655 ...  27.31092437  44.11764706\n",
      "  324.45378151]\n",
      " [ 25.96638655  25.96638655  25.96638655 ...  27.31092437  44.11764706\n",
      "  324.45378151]\n",
      " [ 25.96638655  25.96638655  25.96638655 ...  27.31092437  44.11764706\n",
      "  324.45378151]\n",
      " ...\n",
      " [ 30.67226891  31.34453782  31.34453782 ...  32.01680672 321.09243697\n",
      "  324.45378151]\n",
      " [ 30.67226891  31.34453782  31.34453782 ...  32.01680672 321.09243697\n",
      "  324.45378151]\n",
      " [ 30.67226891  31.34453782  32.01680672 ...  32.01680672 321.09243697\n",
      "  324.45378151]]\n"
     ]
    }
   ],
   "source": [
    "print(temp)"
   ]
  },
  {
   "cell_type": "code",
   "execution_count": null,
   "id": "25de0a20",
   "metadata": {},
   "outputs": [],
   "source": []
  },
  {
   "cell_type": "code",
   "execution_count": null,
   "id": "8b5a230c",
   "metadata": {},
   "outputs": [],
   "source": []
  },
  {
   "cell_type": "code",
   "execution_count": null,
   "id": "ed313e50",
   "metadata": {},
   "outputs": [],
   "source": []
  },
  {
   "cell_type": "code",
   "execution_count": null,
   "id": "9d93a4b5",
   "metadata": {},
   "outputs": [],
   "source": []
  },
  {
   "cell_type": "code",
   "execution_count": null,
   "id": "77823297",
   "metadata": {},
   "outputs": [],
   "source": []
  }
 ],
 "metadata": {
  "kernelspec": {
   "display_name": "Python 3",
   "language": "python",
   "name": "python3"
  },
  "language_info": {
   "codemirror_mode": {
    "name": "ipython",
    "version": 3
   },
   "file_extension": ".py",
   "mimetype": "text/x-python",
   "name": "python",
   "nbconvert_exporter": "python",
   "pygments_lexer": "ipython3",
   "version": "3.9.7"
  }
 },
 "nbformat": 4,
 "nbformat_minor": 5
}
