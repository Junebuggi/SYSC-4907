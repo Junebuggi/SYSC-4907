{
 "cells": [
  {
   "cell_type": "code",
   "execution_count": 33,
   "id": "09f2b359-97b5-438d-8657-c838d9133606",
   "metadata": {},
   "outputs": [],
   "source": [
    "from PIL import Image\n",
    "import numpy as np\n",
    "import math\n",
    "import sys\n",
    "from colormap import rgb2hex"
   ]
  },
  {
   "cell_type": "code",
   "execution_count": 34,
   "id": "944c1caf",
   "metadata": {},
   "outputs": [],
   "source": [
    "def rgb2int(rgb):\n",
    "    hex = rgb2hex(rgb[0], rgb[1], rgb[2])\n",
    "    return int(hex[1:len(hex)], 16)"
   ]
  },
  {
   "cell_type": "code",
   "execution_count": 35,
   "id": "2579b29e-fca8-41fd-b306-9e61007af326",
   "metadata": {},
   "outputs": [
    {
     "name": "stdout",
     "output_type": "stream",
     "text": [
      "596 50\n"
     ]
    }
   ],
   "source": [
    "tempScaleImg = Image.open(\"TempScaleImg.jpg\")\n",
    "if tempScaleImg.mode == \"RGBA\":\n",
    "    tempScaleImg = tempScaleImg.convert('RGB')\n",
    "tempArr = np.array(tempScaleImg)\n",
    "x = tempArr.shape[0] #Rows\n",
    "y = tempArr.shape[1] #Cols\n",
    "print (x, y)\n"
   ]
  },
  {
   "cell_type": "code",
   "execution_count": 36,
   "id": "5733f676",
   "metadata": {},
   "outputs": [],
   "source": [
    "#Find the average rgb value in each row\n",
    "tempAvgArr = tempArr[0:x, 0]\n",
    "rgbScaleInt = np.empty([x])\n",
    "for i in range(0, x):\n",
    "     rgbScaleInt[i] = rgb2int(tempAvgArr[i])"
   ]
  },
  {
   "cell_type": "code",
   "execution_count": 37,
   "id": "8055db68",
   "metadata": {},
   "outputs": [],
   "source": [
    "tempRange = np.linspace(350, -50, x)"
   ]
  },
  {
   "cell_type": "code",
   "execution_count": 38,
   "id": "22578bc7",
   "metadata": {},
   "outputs": [],
   "source": [
    "temp_dict = dict()\n",
    "\n",
    "for e in range(0, x):\n",
    "    temp_dict[rgbScaleInt[e]] = tempRange[e]"
   ]
  },
  {
   "cell_type": "code",
   "execution_count": 39,
   "id": "0d7d8723",
   "metadata": {},
   "outputs": [],
   "source": [
    "def find_nearest(array, value):\n",
    "    array = np.asarray(array)\n",
    "    idx = (np.abs(array - value)).argmin()\n",
    "    return (array[idx], idx)"
   ]
  },
  {
   "cell_type": "code",
   "execution_count": 40,
   "id": "e10f820b",
   "metadata": {},
   "outputs": [],
   "source": [
    "def get_temp(val):\n",
    "    temp, idx = find_nearest(rgbScaleInt, val)\n",
    "    return tempRange[idx]"
   ]
  },
  {
   "cell_type": "code",
   "execution_count": 41,
   "id": "fd2d9fef",
   "metadata": {},
   "outputs": [],
   "source": [
    "def rgb_to_temp(image):\n",
    "    img = Image.open(image)\n",
    "    if img.mode == \"RGBA\":\n",
    "        img = img.convert('RGB')\n",
    "    \n",
    "    rgbArr = np.array(img)\n",
    "\n",
    "    x = rgbArr.shape[0] #Rows\n",
    "    y = rgbArr.shape[1] #Cols\n",
    "    \n",
    "    tempMapped = np.empty([x, y])\n",
    "    \n",
    "    for row in range(0, x):\n",
    "        for col in range(0, y):\n",
    "            tempMapped[row,col] = get_temp(rgb2int(rgbArr[row,col]))\n",
    "            \n",
    "    return tempMapped     "
   ]
  },
  {
   "cell_type": "code",
   "execution_count": 42,
   "id": "857620dc",
   "metadata": {},
   "outputs": [],
   "source": [
    "temp = rgb_to_temp(\"sampleThermal.jpg\");"
   ]
  },
  {
   "cell_type": "code",
   "execution_count": 43,
   "id": "70a3e434",
   "metadata": {},
   "outputs": [
    {
     "name": "stdout",
     "output_type": "stream",
     "text": [
      "[[25.96638655 25.96638655 25.96638655 ... 27.31092437 28.65546218\n",
      "  42.77310924]\n",
      " [25.96638655 25.96638655 25.96638655 ... 27.31092437 28.65546218\n",
      "  42.77310924]\n",
      " [25.96638655 25.96638655 25.96638655 ... 27.31092437 28.65546218\n",
      "  42.77310924]\n",
      " ...\n",
      " [30.67226891 31.34453782 31.34453782 ... 32.01680672 32.68907563\n",
      "  46.80672269]\n",
      " [30.67226891 31.34453782 31.34453782 ... 32.01680672 32.68907563\n",
      "  46.80672269]\n",
      " [30.67226891 31.34453782 32.01680672 ... 32.01680672 32.68907563\n",
      "  46.80672269]]\n"
     ]
    }
   ],
   "source": [
    "print(temp)"
   ]
  },
  {
   "cell_type": "code",
   "execution_count": null,
   "id": "78069842",
   "metadata": {},
   "outputs": [],
   "source": []
  },
  {
   "cell_type": "code",
   "execution_count": null,
   "id": "37c11129",
   "metadata": {},
   "outputs": [],
   "source": []
  },
  {
   "cell_type": "code",
   "execution_count": null,
   "id": "5834474c",
   "metadata": {},
   "outputs": [],
   "source": []
  },
  {
   "cell_type": "code",
   "execution_count": null,
   "id": "f764bdae",
   "metadata": {},
   "outputs": [],
   "source": []
  },
  {
   "cell_type": "code",
   "execution_count": null,
   "id": "dbab0b37",
   "metadata": {},
   "outputs": [],
   "source": []
  }
 ],
 "metadata": {
  "kernelspec": {
   "display_name": "Python 3",
   "language": "python",
   "name": "python3"
  },
  "language_info": {
   "codemirror_mode": {
    "name": "ipython",
    "version": 3
   },
   "file_extension": ".py",
   "mimetype": "text/x-python",
   "name": "python",
   "nbconvert_exporter": "python",
   "pygments_lexer": "ipython3",
   "version": "3.9.7"
  }
 },
 "nbformat": 4,
 "nbformat_minor": 5
}
